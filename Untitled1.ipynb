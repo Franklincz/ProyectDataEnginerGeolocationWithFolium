{
 "cells": [
  {
   "cell_type": "code",
   "execution_count": 1,
   "id": "f04c55ac",
   "metadata": {},
   "outputs": [],
   "source": [
    "import requests\n",
    "import random\n",
    "import pandas as pd\n",
    "from tqdm import tqdm\n",
    "from cred_here import YOUR_API_KEY\n",
    "import json\n",
    "import ast \n",
    "import folium\n"
   ]
  },
  {
   "cell_type": "code",
   "execution_count": 3,
   "id": "d6ec9df4",
   "metadata": {},
   "outputs": [],
   "source": [
    "DF_MAP= pd.read_csv('DATASETFINAL.csv')"
   ]
  },
  {
   "cell_type": "code",
   "execution_count": 9,
   "id": "bbd8aceb",
   "metadata": {},
   "outputs": [
    {
     "data": {
      "text/plain": [
       "(101, 14)"
      ]
     },
     "execution_count": 9,
     "metadata": {},
     "output_type": "execute_result"
    }
   ],
   "source": [
    "DF_MAP.shape"
   ]
  },
  {
   "cell_type": "code",
   "execution_count": 5,
   "id": "8ac0cb23",
   "metadata": {},
   "outputs": [],
   "source": [
    "DF_MAP= DF_MAP.drop_duplicates(subset=['agente','bandera','producto'])"
   ]
  },
  {
   "cell_type": "code",
   "execution_count": 6,
   "id": "ba885f2a",
   "metadata": {},
   "outputs": [
    {
     "data": {
      "text/plain": [
       "101"
      ]
     },
     "execution_count": 6,
     "metadata": {},
     "output_type": "execute_result"
    }
   ],
   "source": [
    "len(DF_MAP)"
   ]
  },
  {
   "cell_type": "code",
   "execution_count": 8,
   "id": "13b01b2a",
   "metadata": {},
   "outputs": [
    {
     "data": {
      "text/plain": [
       "26"
      ]
     },
     "execution_count": 8,
     "metadata": {},
     "output_type": "execute_result"
    }
   ],
   "source": [
    "DF_MAP['Coords'].value_counts()\n",
    "DF_MAP['Coords'].nunique()"
   ]
  },
  {
   "cell_type": "code",
   "execution_count": null,
   "id": "ec08e91f",
   "metadata": {},
   "outputs": [],
   "source": [
    "DF_MAP"
   ]
  }
 ],
 "metadata": {
  "kernelspec": {
   "display_name": "Python 3 (ipykernel)",
   "language": "python",
   "name": "python3"
  },
  "language_info": {
   "codemirror_mode": {
    "name": "ipython",
    "version": 3
   },
   "file_extension": ".py",
   "mimetype": "text/x-python",
   "name": "python",
   "nbconvert_exporter": "python",
   "pygments_lexer": "ipython3",
   "version": "3.9.12"
  }
 },
 "nbformat": 4,
 "nbformat_minor": 5
}
